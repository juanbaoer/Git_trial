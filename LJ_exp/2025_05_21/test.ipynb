{
 "cells": [
  {
   "cell_type": "code",
   "execution_count": 1,
   "metadata": {},
   "outputs": [
    {
     "name": "stdout",
     "output_type": "stream",
     "text": [
      "x:  [1. 1. 1.]\n",
      "Gradient ∇f(x):  [ 2.  6. 10.]\n",
      "Direction v:  [1. 2. 3.]\n",
      "Hessian-vector product Hv:  [ 2. 12. 30.]\n"
     ]
    }
   ],
   "source": [
    "import torch\n",
    "\n",
    "# 初始化变量 x\n",
    "x = torch.tensor([1.0, 1.0, 1.0], requires_grad=True)\n",
    "\n",
    "# 定义标量函数 f(x) = x1^2 + 3*x2^2 + 5*x3^2\n",
    "f = x[0]**2 + 3 * x[1]**2 + 5 * x[2]**2\n",
    "\n",
    "# 一阶梯度 g = ∇f\n",
    "g = torch.autograd.grad(f, x, create_graph=True)[0]  # [2x1, 6x2, 10x3]\n",
    "\n",
    "# 定义方向向量 v\n",
    "v = torch.tensor([1.0, 2.0, 3.0])\n",
    "\n",
    "# 二阶导数作用于 v，即计算 H v\n",
    "Hv = torch.autograd.grad(g, x, grad_outputs=v)[0]\n",
    "\n",
    "# 打印验证结果\n",
    "print(\"x: \", x.detach().numpy())\n",
    "print(\"Gradient ∇f(x): \", g.detach().numpy())\n",
    "print(\"Direction v: \", v.numpy())\n",
    "print(\"Hessian-vector product Hv: \", Hv.detach().numpy())\n"
   ]
  }
 ],
 "metadata": {
  "kernelspec": {
   "display_name": "pytorch_env",
   "language": "python",
   "name": "python3"
  },
  "language_info": {
   "codemirror_mode": {
    "name": "ipython",
    "version": 3
   },
   "file_extension": ".py",
   "mimetype": "text/x-python",
   "name": "python",
   "nbconvert_exporter": "python",
   "pygments_lexer": "ipython3",
   "version": "3.9.21"
  }
 },
 "nbformat": 4,
 "nbformat_minor": 2
}
